{
 "cells": [
  {
   "cell_type": "code",
   "execution_count": 16,
   "id": "22868552",
   "metadata": {},
   "outputs": [],
   "source": [
    "from tensorflow import keras\n",
    "import tensorflow as tf\n",
    "from tensorflow.keras.models import Sequential\n",
    "from tensorflow.keras.layers import Dense\n",
    "from tensorflow.keras import Input\n",
    "from tensorflow.data import Dataset\n",
    "import numpy as np\n",
    "import itertools\n",
    "from tensorflow.keras import backend as K"
   ]
  },
  {
   "cell_type": "markdown",
   "id": "359308f4",
   "metadata": {},
   "source": [
    "## Output layer of the model\n",
    "We charge the previous weights in this new network so that this split of the network can perfom inferences without the need of being trained. \n",
    "By using the tensorflow function it is important for the output layer to have the same name as in the original network and for the parameters to be tuned as true "
   ]
  },
  {
   "cell_type": "code",
   "execution_count": 22,
   "id": "df9d72e5",
   "metadata": {},
   "outputs": [],
   "source": [
    "split_model = Sequential([\n",
    "    Input(shape=(5) #Shape defines the length of the input and  # of neurons in the input layer \n",
    "    ),\n",
    "    Dense(1, activation='sigmoid',name= \"output_layer\")\n",
    "])"
   ]
  },
  {
   "cell_type": "markdown",
   "id": "b12d2c60",
   "metadata": {},
   "source": [
    "## Uploading the model"
   ]
  },
  {
   "cell_type": "code",
   "execution_count": 23,
   "id": "c64c107d",
   "metadata": {},
   "outputs": [
    {
     "name": "stdout",
     "output_type": "stream",
     "text": [
      "Model: \"sequential_3\"\n",
      "_________________________________________________________________\n",
      " Layer (type)                Output Shape              Param #   \n",
      "=================================================================\n",
      " output_layer (Dense)        (None, 1)                 6         \n",
      "                                                                 \n",
      "=================================================================\n",
      "Total params: 6\n",
      "Trainable params: 6\n",
      "Non-trainable params: 0\n",
      "_________________________________________________________________\n"
     ]
    }
   ],
   "source": [
    "split_model.load_weights(\"two_numbers_model.h5\", by_name=True)\n",
    "split_model.summary()"
   ]
  },
  {
   "cell_type": "code",
   "execution_count": 18,
   "id": "83bb64e7",
   "metadata": {},
   "outputs": [
    {
     "data": {
      "text/plain": [
       "[<tf.Variable 'output_layer/kernel:0' shape=(5, 1) dtype=float32, numpy=\n",
       " array([[-1.6090242],\n",
       "        [ 1.6705852],\n",
       "        [ 2.7454245],\n",
       "        [ 3.3096266],\n",
       "        [ 1.4274668]], dtype=float32)>,\n",
       " <tf.Variable 'output_layer/bias:0' shape=(1,) dtype=float32, numpy=array([-0.68028927], dtype=float32)>]"
      ]
     },
     "execution_count": 18,
     "metadata": {},
     "output_type": "execute_result"
    }
   ],
   "source": [
    "split_model.weights"
   ]
  },
  {
   "cell_type": "code",
   "execution_count": 24,
   "id": "ddbea271",
   "metadata": {},
   "outputs": [],
   "source": [
    "# The input vectors are being pasted manually \n",
    "hidden_layer_output= np.array([[1.44, 0.00, 0.25, 0.21, 0.00],\n",
    "                                [1.99, 0.00, 0.08, 0.05, 0.00],\n",
    "                                [2.64, 0.00, 0.00, 0.00, 0.00],\n",
    "                                [3.19, 0.00, 0.00, 0.00, 0.00]])"
   ]
  },
  {
   "cell_type": "code",
   "execution_count": 25,
   "id": "8b45a13d",
   "metadata": {},
   "outputs": [
    {
     "name": "stdout",
     "output_type": "stream",
     "text": [
      "[[0.17]\n",
      " [0.03]\n",
      " [0.01]\n",
      " [0.00]]\n"
     ]
    }
   ],
   "source": [
    "Y = split_model.predict_on_batch(hidden_layer_output)\n",
    "np.set_printoptions(formatter={'float': lambda x: \"{0:0.2f}\".format(x)})\n",
    "print(Y)"
   ]
  }
 ],
 "metadata": {
  "kernelspec": {
   "display_name": "Python 3 (ipykernel)",
   "language": "python",
   "name": "python3"
  },
  "language_info": {
   "codemirror_mode": {
    "name": "ipython",
    "version": 3
   },
   "file_extension": ".py",
   "mimetype": "text/x-python",
   "name": "python",
   "nbconvert_exporter": "python",
   "pygments_lexer": "ipython3",
   "version": "3.9.7"
  }
 },
 "nbformat": 4,
 "nbformat_minor": 5
}
