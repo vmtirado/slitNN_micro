{
 "cells": [
  {
   "cell_type": "markdown",
   "metadata": {},
   "source": [
    "## Extracting the weights of the network"
   ]
  },
  {
   "cell_type": "code",
   "execution_count": null,
   "metadata": {},
   "outputs": [
    {
     "data": {
      "text/plain": [
       "[array([[-1.51, -2.14, 2.22, -0.58, -0.46],\n",
       "        [1.88, 2.40, -1.17, 0.04, -0.60]], dtype=float32),\n",
       " array([0.31, 0.53, 0.74, -0.04, 0.00], dtype=float32),\n",
       " array([[3.12],\n",
       "        [3.33],\n",
       "        [-2.11],\n",
       "        [-0.38],\n",
       "        [-0.33]], dtype=float32),\n",
       " array([-1.23], dtype=float32)]"
      ]
     },
     "metadata": {},
     "output_type": "display_data"
    }
   ],
   "source": [
    "model.get_weights()"
   ]
  },
  {
   "cell_type": "markdown",
   "metadata": {},
   "source": [
    "## Extracting the output of the first layer"
   ]
  },
  {
   "cell_type": "code",
   "execution_count": null,
   "metadata": {},
   "outputs": [
    {
     "data": {
      "text/plain": [
       "['dense', 'dense_1']"
      ]
     },
     "metadata": {},
     "output_type": "display_data"
    }
   ],
   "source": [
    "list(map(lambda x: x.name, model.layers))"
   ]
  },
  {
   "cell_type": "code",
   "execution_count": null,
   "metadata": {},
   "outputs": [],
   "source": [
    "\"\"\"Keras function for getting the output of a given layer\n",
    "This function is created acording to the layer_indexthe function works in the following way\n",
    "Input: entry data of the neuron \n",
    "Output: output of the network  \n",
    "The function below works for the input neuron  \"\"\"\n",
    "layer_index = 0\n",
    "output_function = K.function([model.layers[0].input], model.get_layer(index=layer_index).output)"
   ]
  },
  {
   "cell_type": "code",
   "execution_count": null,
   "metadata": {},
   "outputs": [
    {
     "name": "stdout",
     "output_type": "stream",
     "text": [
      "[[0.53 0.80 0.72 0.00 0.00]\n",
      " [0.61 0.85 0.93 0.00 0.00]\n",
      " [0.00 0.00 1.73 0.00 0.00]\n",
      " [0.00 0.00 2.06 0.00 0.00]]\n"
     ]
    }
   ],
   "source": [
    "#Testing the function with the previous data \n",
    "layer_output = output_function([test_X])  # input_data is a numpy array\n",
    "print(layer_output)"
   ]
  }
 ],
 "metadata": {
  "language_info": {
   "name": "python"
  },
  "orig_nbformat": 4
 },
 "nbformat": 4,
 "nbformat_minor": 2
}
